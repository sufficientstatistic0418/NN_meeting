{
 "cells": [
  {
   "cell_type": "code",
   "execution_count": 9,
   "metadata": {
    "collapsed": true
   },
   "outputs": [],
   "source": [
    "# def get_path(data_path):\n",
    "#     y = []\n",
    "#     for paths, folders, all_filenames in os.walk(data_path):\n",
    "#         for filename in all_filenames:\n",
    "#             if \".DS_Store\" not in filename:\n",
    "#                 y.append(os.path.join(paths, filename))\n",
    "#     return y"
   ]
  },
  {
   "cell_type": "markdown",
   "metadata": {},
   "source": [
    "# 抓取路徑\n",
    "## 根目錄\n",
    "## 欲讀取的字串"
   ]
  },
  {
   "cell_type": "code",
   "execution_count": 1,
   "metadata": {},
   "outputs": [],
   "source": [
    "def get_path(root_folder_path, candidate_str):\n",
    "    y = []\n",
    "    for paths, folders, file_NameSpace in os.walk(root_folder_path):\n",
    "        for filename in file_NameSpace:\n",
    "            for i in candidate_str:\n",
    "                if i in filename:\n",
    "                    y.append(os.path.join(paths, filename))\n",
    "                    break\n",
    "    return y"
   ]
  },
  {
   "cell_type": "code",
   "execution_count": null,
   "metadata": {},
   "outputs": [],
   "source": []
  },
  {
   "cell_type": "markdown",
   "metadata": {},
   "source": [
    "# Label the data\n",
    "## x:要讀取的路徑string  \n",
    "## candidate_str:候選字串list"
   ]
  },
  {
   "cell_type": "code",
   "execution_count": 2,
   "metadata": {
    "collapsed": true
   },
   "outputs": [],
   "source": [
    "def label_the_data(path_list, candidate_str):\n",
    "    y_label = np.zeros(len(candidate_str))\n",
    "    for i in candidate_str:\n",
    "        if path_list.find(i) != -1:\n",
    "            y_label[candidate_str.index(i)] = 1\n",
    "            break\n",
    "    return y_label"
   ]
  },
  {
   "cell_type": "code",
   "execution_count": 11,
   "metadata": {
    "collapsed": true
   },
   "outputs": [],
   "source": [
    "def array_delete(x):\n",
    "    # delete columns\n",
    "    x = np.delete(x, range(26), 0)\n",
    "    x = np.delete(x, [17, 18], 0)\n",
    "   \n",
    "    # delete rows\n",
    "    x = np.delete(x, 39, 1)\n",
    "    \n",
    "    return x"
   ]
  },
  {
   "cell_type": "code",
   "execution_count": 12,
   "metadata": {
    "collapsed": true
   },
   "outputs": [],
   "source": [
    "def connect_data_folder(data_path, candiate_str):\n",
    "    load_path = get_path(data_path, candiate_str)\n",
    "    p = len(load_path)\n",
    "    \n",
    "    sample = np.array(pd.read_csv(load_path[0], header=None))\n",
    "    sample = array_delete(sample)\n",
    "    \n",
    "    nr, nc = sample.shape\n",
    "    n = nr * nc\n",
    "    x_input = np.zeros((p, n))\n",
    "    y_input = np.zeros((p, len(candiate_str)))\n",
    "    for i in range(p):\n",
    "        x_trans = np.array(pd.read_csv(load_path[i], header=None))\n",
    "        x_trans = array_delete(x_trans)\n",
    "        x_input[i] = x_trans.reshape((1, n))\n",
    "        y_input[i] = label_the_data(load_path[i], candiate_str)\n",
    "    return x_input, y_input"
   ]
  },
  {
   "cell_type": "code",
   "execution_count": 3,
   "metadata": {
    "collapsed": true
   },
   "outputs": [],
   "source": [
    "# data_tuple : 切割前的可訓練data組\n",
    "# num_fr : 欲切割的frame數\n",
    "# 輸出一組可訓練tuple\n",
    "# length : 單筆資料攤平後的長度，依據所選的音框不同有差別\n",
    "# raw data : sample_size x length\n",
    "# 舉例:raw data 516 x 25  切割後: 25 x 516 x 39\n",
    "\n",
    "# def frame_split(data_tuple, num_fr):\n",
    "#     sp_frame_x = np.array(np.split(data_tuple[0], num_fr, 1))\n",
    "#     sp_data_list = list(np.zeros(num_fr))\n",
    "#     for i in range(num_fr):\n",
    "#         sp_data_list[i] = sp_frame_x[i, :, :], data_tuple[1]\n",
    "#     return sp_data_list"
   ]
  },
  {
   "cell_type": "code",
   "execution_count": 3,
   "metadata": {
    "collapsed": true
   },
   "outputs": [],
   "source": [
    "#1108 更新版1\n",
    "def frame_split22(data_tuple, num_fr):\n",
    "    sp_frame_x = np.array(np.split(data_tuple[0], num_fr, 1))\n",
    "    return sp_frame_x, data_tuple[1]"
   ]
  },
  {
   "cell_type": "code",
   "execution_count": 4,
   "metadata": {
    "collapsed": true
   },
   "outputs": [],
   "source": [
    "#1108 更新版2\n",
    "# def frame_split(data_tuple, num_fr):\n",
    "#     sp_frame_x = np.array(np.split(data_tuple[0], num_fr, 1))\n",
    "#     sp_frame_y = np.zeros([num_fr, data_tuple[1].shape[0], data_tuple[1].shape[1]])\n",
    "    \n",
    "#     for i in range(num_fr):\n",
    "#         sp_frame_y[i, :, :] = data_tuple[1]\n",
    "#     return sp_frame_x, sp_frame_y"
   ]
  },
  {
   "cell_type": "code",
   "execution_count": null,
   "metadata": {
    "collapsed": true
   },
   "outputs": [],
   "source": []
  },
  {
   "cell_type": "code",
   "execution_count": null,
   "metadata": {
    "collapsed": true
   },
   "outputs": [],
   "source": [
    "# 功能：將矩陣放入，輸出(逐行或逐列標準化後的矩陣, 標準化用的mean_matrix, 標準化用的sd_matrix)\n",
    "# train_x：放入的矩陣\n",
    "# by_row：bool, 逐列則True, 逐行則false\n",
    "# def scale_apply(train_x, by_row = True):\n",
    "#     shape = train_x.shape\n",
    "#     if by_row == True:\n",
    "#         mean_vec = train_x.mean(axis=1).reshape([shape[0], 1])\n",
    "#         var_vec = train_x.var(axis=1).reshape([shape[0], 1])\n",
    "#         one = np.zeros([1, shape[1]]) + 1\n",
    "        \n",
    "#         mean_mat = np.matmul(mean_vec, one)\n",
    "#         var_mat = np.matmul(var_vec, one)\n",
    "#         y = (train_x - mean_mat) / var_mat**(0.5)\n",
    "#     else:\n",
    "#         mean_vec = train_x.mean(axis=0).reshape([shape[0], 1])\n",
    "#         var_vec = train_x.var(axis=0).reshape([shape[0], 1])\n",
    "#         one = np.zeros([1, shape[1]]) + 1\n",
    "        \n",
    "#         mean_mat = np.matmul(mean_vec, one)\n",
    "#         var_mat = np.matmul(var_vec, one)\n",
    "#         y = (train_x - mean_mat) / var_mat**(0.5)\n",
    "#     return y, mean_vec, var_vec**(0.5)"
   ]
  },
  {
   "cell_type": "code",
   "execution_count": 1,
   "metadata": {
    "collapsed": true
   },
   "outputs": [],
   "source": [
    "# def scale_by_train(test_x, mean_vec, sd_vec):\n",
    "#     shape = test_x.shape\n",
    "#     one = np.zeros([1, shape[1]]) + 1\n",
    "#     mean_mat = np.matmul(mean_vec, one)\n",
    "#     sd_mat = np.matmul(sd_vec, one)\n",
    "#     y = (train_x - mean_mat) / sd_mat\n",
    "    \n",
    "#     return y"
   ]
  },
  {
   "cell_type": "markdown",
   "metadata": {},
   "source": [
    "# 標準化"
   ]
  },
  {
   "cell_type": "markdown",
   "metadata": {},
   "source": [
    "## 抓取train data的scale"
   ]
  },
  {
   "cell_type": "code",
   "execution_count": null,
   "metadata": {
    "collapsed": true
   },
   "outputs": [],
   "source": [
    "def get_mean_and_sd(train_x):\n",
    "    tr_frame_x = np.array(np.split(train_x, 25, 1))\n",
    "    tr_mean = tr_frame_x.mean(axis=1, keepdims=True)\n",
    "    tr_sd = np.var(tr_frame_x, axis=1, keepdims=True)\n",
    "    return tr_mean, tr_sd"
   ]
  },
  {
   "cell_type": "markdown",
   "metadata": {},
   "source": [
    "## 利用抓取好的scale進行標準化"
   ]
  },
  {
   "cell_type": "code",
   "execution_count": null,
   "metadata": {},
   "outputs": [],
   "source": [
    "def scale_by_train(sp_x, tr_mean, tr_sd):\n",
    "    sample_size = sp_x.shape[1]\n",
    "    temp = sp_x.copy()\n",
    "    for i in range(sample_size):\n",
    "#         temp[:, i, :] = np.add(temp[:, i, :], tr_mean)\n",
    "#         temp[:, i, :] = np.divide(temp[:, i, :], tr_sd)\n",
    "        temp[:, i, :] -= tr_mean[:, 0, :]\n",
    "        temp[:, i, :] /= (tr_sd[:, 0, :])**0.5\n",
    "    return temp"
   ]
  }
 ],
 "metadata": {
  "kernelspec": {
   "display_name": "Python 3",
   "language": "python",
   "name": "python3"
  },
  "language_info": {
   "codemirror_mode": {
    "name": "ipython",
    "version": 3
   },
   "file_extension": ".py",
   "mimetype": "text/x-python",
   "name": "python",
   "nbconvert_exporter": "python",
   "pygments_lexer": "ipython3",
   "version": "3.6.3"
  }
 },
 "nbformat": 4,
 "nbformat_minor": 2
}
